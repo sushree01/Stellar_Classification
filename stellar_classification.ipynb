{
 "cells": [
  {
   "cell_type": "markdown",
   "id": "ffbfacbc",
   "metadata": {},
   "source": [
    "## 1.Loading Required Libraries"
   ]
  },
  {
   "cell_type": "code",
   "execution_count": 1,
   "id": "8b5adf4d",
   "metadata": {
    "id": "8b5adf4d"
   },
   "outputs": [],
   "source": [
    "import numpy as np\n",
    "import pandas as pd\n",
    "import matplotlib.pyplot as plt\n",
    "import seaborn as sns"
   ]
  },
  {
   "cell_type": "code",
   "execution_count": 2,
   "id": "f4310564",
   "metadata": {},
   "outputs": [],
   "source": [
    "from warnings import filterwarnings\n",
    "filterwarnings('ignore')"
   ]
  },
  {
   "cell_type": "code",
   "execution_count": 3,
   "id": "9e130b2a",
   "metadata": {
    "id": "9e130b2a"
   },
   "outputs": [],
   "source": [
    "from sklearn.preprocessing import LabelEncoder,StandardScaler\n",
    "from sklearn.decomposition import PCA"
   ]
  },
  {
   "cell_type": "code",
   "execution_count": 4,
   "id": "10c901ae",
   "metadata": {
    "id": "10c901ae"
   },
   "outputs": [],
   "source": [
    "from sklearn.model_selection import train_test_split\n",
    "from sklearn.linear_model import LogisticRegression\n",
    "from sklearn.tree import DecisionTreeClassifier\n",
    "from sklearn.ensemble import RandomForestClassifier\n",
    "from sklearn.svm import SVC\n",
    "from sklearn.naive_bayes import GaussianNB\n",
    "from sklearn.neighbors import KNeighborsClassifier\n",
    "from xgboost import XGBClassifier"
   ]
  },
  {
   "cell_type": "code",
   "execution_count": 5,
   "id": "NYEdCjMKKGuv",
   "metadata": {
    "id": "NYEdCjMKKGuv"
   },
   "outputs": [],
   "source": [
    "import keras\n",
    "from keras.models import Sequential\n",
    "from keras.layers import Dense\n",
    "from keras.utils import to_categorical"
   ]
  },
  {
   "cell_type": "code",
   "execution_count": 6,
   "id": "72a39010",
   "metadata": {
    "id": "72a39010"
   },
   "outputs": [],
   "source": [
    "from sklearn.metrics import confusion_matrix,classification_report,accuracy_score,precision_score"
   ]
  },
  {
   "cell_type": "markdown",
   "id": "c66ac71f",
   "metadata": {},
   "source": [
    "## 2.Loading the Dataset"
   ]
  },
  {
   "cell_type": "code",
   "execution_count": 7,
   "id": "afa8a5f8",
   "metadata": {
    "id": "afa8a5f8"
   },
   "outputs": [],
   "source": [
    "df_star=pd.read_csv('C:/Users/Sushree Jena/Desktop/imarticus/machine learning/Kaggle/galaxy/star_classification.csv')"
   ]
  },
  {
   "cell_type": "code",
   "execution_count": 8,
   "id": "e03eb593",
   "metadata": {
    "colab": {
     "base_uri": "https://localhost:8080/",
     "height": 270
    },
    "id": "e03eb593",
    "outputId": "ce670ff5-dd89-4970-84e9-11e447d9778c"
   },
   "outputs": [
    {
     "data": {
      "text/html": [
       "<div>\n",
       "<style scoped>\n",
       "    .dataframe tbody tr th:only-of-type {\n",
       "        vertical-align: middle;\n",
       "    }\n",
       "\n",
       "    .dataframe tbody tr th {\n",
       "        vertical-align: top;\n",
       "    }\n",
       "\n",
       "    .dataframe thead th {\n",
       "        text-align: right;\n",
       "    }\n",
       "</style>\n",
       "<table border=\"1\" class=\"dataframe\">\n",
       "  <thead>\n",
       "    <tr style=\"text-align: right;\">\n",
       "      <th></th>\n",
       "      <th>obj_ID</th>\n",
       "      <th>alpha</th>\n",
       "      <th>delta</th>\n",
       "      <th>u</th>\n",
       "      <th>g</th>\n",
       "      <th>r</th>\n",
       "      <th>i</th>\n",
       "      <th>z</th>\n",
       "      <th>run_ID</th>\n",
       "      <th>rerun_ID</th>\n",
       "      <th>cam_col</th>\n",
       "      <th>field_ID</th>\n",
       "      <th>spec_obj_ID</th>\n",
       "      <th>class</th>\n",
       "      <th>redshift</th>\n",
       "      <th>plate</th>\n",
       "      <th>MJD</th>\n",
       "      <th>fiber_ID</th>\n",
       "    </tr>\n",
       "  </thead>\n",
       "  <tbody>\n",
       "    <tr>\n",
       "      <th>0</th>\n",
       "      <td>1.237661e+18</td>\n",
       "      <td>135.689107</td>\n",
       "      <td>32.494632</td>\n",
       "      <td>23.87882</td>\n",
       "      <td>22.27530</td>\n",
       "      <td>20.39501</td>\n",
       "      <td>19.16573</td>\n",
       "      <td>18.79371</td>\n",
       "      <td>3606</td>\n",
       "      <td>301</td>\n",
       "      <td>2</td>\n",
       "      <td>79</td>\n",
       "      <td>6.543777e+18</td>\n",
       "      <td>GALAXY</td>\n",
       "      <td>0.634794</td>\n",
       "      <td>5812</td>\n",
       "      <td>56354</td>\n",
       "      <td>171</td>\n",
       "    </tr>\n",
       "    <tr>\n",
       "      <th>1</th>\n",
       "      <td>1.237665e+18</td>\n",
       "      <td>144.826101</td>\n",
       "      <td>31.274185</td>\n",
       "      <td>24.77759</td>\n",
       "      <td>22.83188</td>\n",
       "      <td>22.58444</td>\n",
       "      <td>21.16812</td>\n",
       "      <td>21.61427</td>\n",
       "      <td>4518</td>\n",
       "      <td>301</td>\n",
       "      <td>5</td>\n",
       "      <td>119</td>\n",
       "      <td>1.176014e+19</td>\n",
       "      <td>GALAXY</td>\n",
       "      <td>0.779136</td>\n",
       "      <td>10445</td>\n",
       "      <td>58158</td>\n",
       "      <td>427</td>\n",
       "    </tr>\n",
       "    <tr>\n",
       "      <th>2</th>\n",
       "      <td>1.237661e+18</td>\n",
       "      <td>142.188790</td>\n",
       "      <td>35.582444</td>\n",
       "      <td>25.26307</td>\n",
       "      <td>22.66389</td>\n",
       "      <td>20.60976</td>\n",
       "      <td>19.34857</td>\n",
       "      <td>18.94827</td>\n",
       "      <td>3606</td>\n",
       "      <td>301</td>\n",
       "      <td>2</td>\n",
       "      <td>120</td>\n",
       "      <td>5.152200e+18</td>\n",
       "      <td>GALAXY</td>\n",
       "      <td>0.644195</td>\n",
       "      <td>4576</td>\n",
       "      <td>55592</td>\n",
       "      <td>299</td>\n",
       "    </tr>\n",
       "    <tr>\n",
       "      <th>3</th>\n",
       "      <td>1.237663e+18</td>\n",
       "      <td>338.741038</td>\n",
       "      <td>-0.402828</td>\n",
       "      <td>22.13682</td>\n",
       "      <td>23.77656</td>\n",
       "      <td>21.61162</td>\n",
       "      <td>20.50454</td>\n",
       "      <td>19.25010</td>\n",
       "      <td>4192</td>\n",
       "      <td>301</td>\n",
       "      <td>3</td>\n",
       "      <td>214</td>\n",
       "      <td>1.030107e+19</td>\n",
       "      <td>GALAXY</td>\n",
       "      <td>0.932346</td>\n",
       "      <td>9149</td>\n",
       "      <td>58039</td>\n",
       "      <td>775</td>\n",
       "    </tr>\n",
       "    <tr>\n",
       "      <th>4</th>\n",
       "      <td>1.237680e+18</td>\n",
       "      <td>345.282593</td>\n",
       "      <td>21.183866</td>\n",
       "      <td>19.43718</td>\n",
       "      <td>17.58028</td>\n",
       "      <td>16.49747</td>\n",
       "      <td>15.97711</td>\n",
       "      <td>15.54461</td>\n",
       "      <td>8102</td>\n",
       "      <td>301</td>\n",
       "      <td>3</td>\n",
       "      <td>137</td>\n",
       "      <td>6.891865e+18</td>\n",
       "      <td>GALAXY</td>\n",
       "      <td>0.116123</td>\n",
       "      <td>6121</td>\n",
       "      <td>56187</td>\n",
       "      <td>842</td>\n",
       "    </tr>\n",
       "  </tbody>\n",
       "</table>\n",
       "</div>"
      ],
      "text/plain": [
       "         obj_ID       alpha      delta         u         g         r  \\\n",
       "0  1.237661e+18  135.689107  32.494632  23.87882  22.27530  20.39501   \n",
       "1  1.237665e+18  144.826101  31.274185  24.77759  22.83188  22.58444   \n",
       "2  1.237661e+18  142.188790  35.582444  25.26307  22.66389  20.60976   \n",
       "3  1.237663e+18  338.741038  -0.402828  22.13682  23.77656  21.61162   \n",
       "4  1.237680e+18  345.282593  21.183866  19.43718  17.58028  16.49747   \n",
       "\n",
       "          i         z  run_ID  rerun_ID  cam_col  field_ID   spec_obj_ID  \\\n",
       "0  19.16573  18.79371    3606       301        2        79  6.543777e+18   \n",
       "1  21.16812  21.61427    4518       301        5       119  1.176014e+19   \n",
       "2  19.34857  18.94827    3606       301        2       120  5.152200e+18   \n",
       "3  20.50454  19.25010    4192       301        3       214  1.030107e+19   \n",
       "4  15.97711  15.54461    8102       301        3       137  6.891865e+18   \n",
       "\n",
       "    class  redshift  plate    MJD  fiber_ID  \n",
       "0  GALAXY  0.634794   5812  56354       171  \n",
       "1  GALAXY  0.779136  10445  58158       427  \n",
       "2  GALAXY  0.644195   4576  55592       299  \n",
       "3  GALAXY  0.932346   9149  58039       775  \n",
       "4  GALAXY  0.116123   6121  56187       842  "
      ]
     },
     "execution_count": 8,
     "metadata": {},
     "output_type": "execute_result"
    }
   ],
   "source": [
    "df_star.head()"
   ]
  },
  {
   "cell_type": "markdown",
   "id": "ba2158d4",
   "metadata": {},
   "source": [
    "## 3.Exploratory Data Analysis"
   ]
  },
  {
   "cell_type": "code",
   "execution_count": 9,
   "id": "49e1bb6b",
   "metadata": {
    "colab": {
     "base_uri": "https://localhost:8080/"
    },
    "id": "49e1bb6b",
    "outputId": "d81147dc-5f7c-43d2-94a5-74caa58f5a87"
   },
   "outputs": [
    {
     "data": {
      "text/plain": [
       "(100000, 18)"
      ]
     },
     "execution_count": 9,
     "metadata": {},
     "output_type": "execute_result"
    }
   ],
   "source": [
    "df_star.shape"
   ]
  },
  {
   "cell_type": "code",
   "execution_count": 10,
   "id": "49606999",
   "metadata": {
    "colab": {
     "base_uri": "https://localhost:8080/"
    },
    "id": "49606999",
    "outputId": "47fc47a3-e00d-4705-81b0-716c02a934a3"
   },
   "outputs": [
    {
     "data": {
      "text/plain": [
       "GALAXY    59445\n",
       "STAR      21594\n",
       "QSO       18961\n",
       "Name: class, dtype: int64"
      ]
     },
     "execution_count": 10,
     "metadata": {},
     "output_type": "execute_result"
    }
   ],
   "source": [
    "df_star['class'].value_counts()"
   ]
  },
  {
   "cell_type": "code",
   "execution_count": 11,
   "id": "26f69f26",
   "metadata": {
    "colab": {
     "base_uri": "https://localhost:8080/"
    },
    "id": "26f69f26",
    "outputId": "108c44e7-28e6-492b-f7b0-cb8601821a13"
   },
   "outputs": [
    {
     "name": "stdout",
     "output_type": "stream",
     "text": [
      "<class 'pandas.core.frame.DataFrame'>\n",
      "RangeIndex: 100000 entries, 0 to 99999\n",
      "Data columns (total 18 columns):\n",
      " #   Column       Non-Null Count   Dtype  \n",
      "---  ------       --------------   -----  \n",
      " 0   obj_ID       100000 non-null  float64\n",
      " 1   alpha        100000 non-null  float64\n",
      " 2   delta        100000 non-null  float64\n",
      " 3   u            100000 non-null  float64\n",
      " 4   g            100000 non-null  float64\n",
      " 5   r            100000 non-null  float64\n",
      " 6   i            100000 non-null  float64\n",
      " 7   z            100000 non-null  float64\n",
      " 8   run_ID       100000 non-null  int64  \n",
      " 9   rerun_ID     100000 non-null  int64  \n",
      " 10  cam_col      100000 non-null  int64  \n",
      " 11  field_ID     100000 non-null  int64  \n",
      " 12  spec_obj_ID  100000 non-null  float64\n",
      " 13  class        100000 non-null  object \n",
      " 14  redshift     100000 non-null  float64\n",
      " 15  plate        100000 non-null  int64  \n",
      " 16  MJD          100000 non-null  int64  \n",
      " 17  fiber_ID     100000 non-null  int64  \n",
      "dtypes: float64(10), int64(7), object(1)\n",
      "memory usage: 13.7+ MB\n"
     ]
    }
   ],
   "source": [
    "df_star.info()"
   ]
  },
  {
   "cell_type": "code",
   "execution_count": 12,
   "id": "283886f1",
   "metadata": {
    "colab": {
     "base_uri": "https://localhost:8080/",
     "height": 364
    },
    "id": "283886f1",
    "outputId": "09c05ab1-1374-4e52-d037-15ae3c8019fa"
   },
   "outputs": [
    {
     "data": {
      "text/html": [
       "<div>\n",
       "<style scoped>\n",
       "    .dataframe tbody tr th:only-of-type {\n",
       "        vertical-align: middle;\n",
       "    }\n",
       "\n",
       "    .dataframe tbody tr th {\n",
       "        vertical-align: top;\n",
       "    }\n",
       "\n",
       "    .dataframe thead th {\n",
       "        text-align: right;\n",
       "    }\n",
       "</style>\n",
       "<table border=\"1\" class=\"dataframe\">\n",
       "  <thead>\n",
       "    <tr style=\"text-align: right;\">\n",
       "      <th></th>\n",
       "      <th>obj_ID</th>\n",
       "      <th>alpha</th>\n",
       "      <th>delta</th>\n",
       "      <th>u</th>\n",
       "      <th>g</th>\n",
       "      <th>r</th>\n",
       "      <th>i</th>\n",
       "      <th>z</th>\n",
       "      <th>run_ID</th>\n",
       "      <th>rerun_ID</th>\n",
       "      <th>cam_col</th>\n",
       "      <th>field_ID</th>\n",
       "      <th>spec_obj_ID</th>\n",
       "      <th>redshift</th>\n",
       "      <th>plate</th>\n",
       "      <th>MJD</th>\n",
       "      <th>fiber_ID</th>\n",
       "    </tr>\n",
       "  </thead>\n",
       "  <tbody>\n",
       "    <tr>\n",
       "      <th>count</th>\n",
       "      <td>1.000000e+05</td>\n",
       "      <td>100000.000000</td>\n",
       "      <td>100000.000000</td>\n",
       "      <td>100000.000000</td>\n",
       "      <td>100000.000000</td>\n",
       "      <td>100000.000000</td>\n",
       "      <td>100000.000000</td>\n",
       "      <td>100000.000000</td>\n",
       "      <td>100000.000000</td>\n",
       "      <td>100000.0</td>\n",
       "      <td>100000.000000</td>\n",
       "      <td>100000.000000</td>\n",
       "      <td>1.000000e+05</td>\n",
       "      <td>100000.000000</td>\n",
       "      <td>100000.000000</td>\n",
       "      <td>100000.000000</td>\n",
       "      <td>100000.000000</td>\n",
       "    </tr>\n",
       "    <tr>\n",
       "      <th>mean</th>\n",
       "      <td>1.237665e+18</td>\n",
       "      <td>177.629117</td>\n",
       "      <td>24.135305</td>\n",
       "      <td>21.980468</td>\n",
       "      <td>20.531387</td>\n",
       "      <td>19.645762</td>\n",
       "      <td>19.084854</td>\n",
       "      <td>18.668810</td>\n",
       "      <td>4481.366060</td>\n",
       "      <td>301.0</td>\n",
       "      <td>3.511610</td>\n",
       "      <td>186.130520</td>\n",
       "      <td>5.783882e+18</td>\n",
       "      <td>0.576661</td>\n",
       "      <td>5137.009660</td>\n",
       "      <td>55588.647500</td>\n",
       "      <td>449.312740</td>\n",
       "    </tr>\n",
       "    <tr>\n",
       "      <th>std</th>\n",
       "      <td>8.438560e+12</td>\n",
       "      <td>96.502241</td>\n",
       "      <td>19.644665</td>\n",
       "      <td>31.769291</td>\n",
       "      <td>31.750292</td>\n",
       "      <td>1.854760</td>\n",
       "      <td>1.757895</td>\n",
       "      <td>31.728152</td>\n",
       "      <td>1964.764593</td>\n",
       "      <td>0.0</td>\n",
       "      <td>1.586912</td>\n",
       "      <td>149.011073</td>\n",
       "      <td>3.324016e+18</td>\n",
       "      <td>0.730707</td>\n",
       "      <td>2952.303351</td>\n",
       "      <td>1808.484233</td>\n",
       "      <td>272.498404</td>\n",
       "    </tr>\n",
       "    <tr>\n",
       "      <th>min</th>\n",
       "      <td>1.237646e+18</td>\n",
       "      <td>0.005528</td>\n",
       "      <td>-18.785328</td>\n",
       "      <td>-9999.000000</td>\n",
       "      <td>-9999.000000</td>\n",
       "      <td>9.822070</td>\n",
       "      <td>9.469903</td>\n",
       "      <td>-9999.000000</td>\n",
       "      <td>109.000000</td>\n",
       "      <td>301.0</td>\n",
       "      <td>1.000000</td>\n",
       "      <td>11.000000</td>\n",
       "      <td>2.995191e+17</td>\n",
       "      <td>-0.009971</td>\n",
       "      <td>266.000000</td>\n",
       "      <td>51608.000000</td>\n",
       "      <td>1.000000</td>\n",
       "    </tr>\n",
       "    <tr>\n",
       "      <th>25%</th>\n",
       "      <td>1.237659e+18</td>\n",
       "      <td>127.518222</td>\n",
       "      <td>5.146771</td>\n",
       "      <td>20.352353</td>\n",
       "      <td>18.965230</td>\n",
       "      <td>18.135828</td>\n",
       "      <td>17.732285</td>\n",
       "      <td>17.460677</td>\n",
       "      <td>3187.000000</td>\n",
       "      <td>301.0</td>\n",
       "      <td>2.000000</td>\n",
       "      <td>82.000000</td>\n",
       "      <td>2.844138e+18</td>\n",
       "      <td>0.054517</td>\n",
       "      <td>2526.000000</td>\n",
       "      <td>54234.000000</td>\n",
       "      <td>221.000000</td>\n",
       "    </tr>\n",
       "    <tr>\n",
       "      <th>50%</th>\n",
       "      <td>1.237663e+18</td>\n",
       "      <td>180.900700</td>\n",
       "      <td>23.645922</td>\n",
       "      <td>22.179135</td>\n",
       "      <td>21.099835</td>\n",
       "      <td>20.125290</td>\n",
       "      <td>19.405145</td>\n",
       "      <td>19.004595</td>\n",
       "      <td>4188.000000</td>\n",
       "      <td>301.0</td>\n",
       "      <td>4.000000</td>\n",
       "      <td>146.000000</td>\n",
       "      <td>5.614883e+18</td>\n",
       "      <td>0.424173</td>\n",
       "      <td>4987.000000</td>\n",
       "      <td>55868.500000</td>\n",
       "      <td>433.000000</td>\n",
       "    </tr>\n",
       "    <tr>\n",
       "      <th>75%</th>\n",
       "      <td>1.237668e+18</td>\n",
       "      <td>233.895005</td>\n",
       "      <td>39.901550</td>\n",
       "      <td>23.687440</td>\n",
       "      <td>22.123767</td>\n",
       "      <td>21.044785</td>\n",
       "      <td>20.396495</td>\n",
       "      <td>19.921120</td>\n",
       "      <td>5326.000000</td>\n",
       "      <td>301.0</td>\n",
       "      <td>5.000000</td>\n",
       "      <td>241.000000</td>\n",
       "      <td>8.332144e+18</td>\n",
       "      <td>0.704154</td>\n",
       "      <td>7400.250000</td>\n",
       "      <td>56777.000000</td>\n",
       "      <td>645.000000</td>\n",
       "    </tr>\n",
       "    <tr>\n",
       "      <th>max</th>\n",
       "      <td>1.237681e+18</td>\n",
       "      <td>359.999810</td>\n",
       "      <td>83.000519</td>\n",
       "      <td>32.781390</td>\n",
       "      <td>31.602240</td>\n",
       "      <td>29.571860</td>\n",
       "      <td>32.141470</td>\n",
       "      <td>29.383740</td>\n",
       "      <td>8162.000000</td>\n",
       "      <td>301.0</td>\n",
       "      <td>6.000000</td>\n",
       "      <td>989.000000</td>\n",
       "      <td>1.412694e+19</td>\n",
       "      <td>7.011245</td>\n",
       "      <td>12547.000000</td>\n",
       "      <td>58932.000000</td>\n",
       "      <td>1000.000000</td>\n",
       "    </tr>\n",
       "  </tbody>\n",
       "</table>\n",
       "</div>"
      ],
      "text/plain": [
       "             obj_ID          alpha          delta              u  \\\n",
       "count  1.000000e+05  100000.000000  100000.000000  100000.000000   \n",
       "mean   1.237665e+18     177.629117      24.135305      21.980468   \n",
       "std    8.438560e+12      96.502241      19.644665      31.769291   \n",
       "min    1.237646e+18       0.005528     -18.785328   -9999.000000   \n",
       "25%    1.237659e+18     127.518222       5.146771      20.352353   \n",
       "50%    1.237663e+18     180.900700      23.645922      22.179135   \n",
       "75%    1.237668e+18     233.895005      39.901550      23.687440   \n",
       "max    1.237681e+18     359.999810      83.000519      32.781390   \n",
       "\n",
       "                   g              r              i              z  \\\n",
       "count  100000.000000  100000.000000  100000.000000  100000.000000   \n",
       "mean       20.531387      19.645762      19.084854      18.668810   \n",
       "std        31.750292       1.854760       1.757895      31.728152   \n",
       "min     -9999.000000       9.822070       9.469903   -9999.000000   \n",
       "25%        18.965230      18.135828      17.732285      17.460677   \n",
       "50%        21.099835      20.125290      19.405145      19.004595   \n",
       "75%        22.123767      21.044785      20.396495      19.921120   \n",
       "max        31.602240      29.571860      32.141470      29.383740   \n",
       "\n",
       "              run_ID  rerun_ID        cam_col       field_ID   spec_obj_ID  \\\n",
       "count  100000.000000  100000.0  100000.000000  100000.000000  1.000000e+05   \n",
       "mean     4481.366060     301.0       3.511610     186.130520  5.783882e+18   \n",
       "std      1964.764593       0.0       1.586912     149.011073  3.324016e+18   \n",
       "min       109.000000     301.0       1.000000      11.000000  2.995191e+17   \n",
       "25%      3187.000000     301.0       2.000000      82.000000  2.844138e+18   \n",
       "50%      4188.000000     301.0       4.000000     146.000000  5.614883e+18   \n",
       "75%      5326.000000     301.0       5.000000     241.000000  8.332144e+18   \n",
       "max      8162.000000     301.0       6.000000     989.000000  1.412694e+19   \n",
       "\n",
       "            redshift          plate            MJD       fiber_ID  \n",
       "count  100000.000000  100000.000000  100000.000000  100000.000000  \n",
       "mean        0.576661    5137.009660   55588.647500     449.312740  \n",
       "std         0.730707    2952.303351    1808.484233     272.498404  \n",
       "min        -0.009971     266.000000   51608.000000       1.000000  \n",
       "25%         0.054517    2526.000000   54234.000000     221.000000  \n",
       "50%         0.424173    4987.000000   55868.500000     433.000000  \n",
       "75%         0.704154    7400.250000   56777.000000     645.000000  \n",
       "max         7.011245   12547.000000   58932.000000    1000.000000  "
      ]
     },
     "execution_count": 12,
     "metadata": {},
     "output_type": "execute_result"
    }
   ],
   "source": [
    "df_star.describe()"
   ]
  },
  {
   "cell_type": "code",
   "execution_count": 13,
   "id": "e9861b45",
   "metadata": {
    "id": "e9861b45"
   },
   "outputs": [],
   "source": [
    "#There are outliers present in some columns.We need to treat the outliers."
   ]
  },
  {
   "cell_type": "code",
   "execution_count": 14,
   "id": "ceead0f1",
   "metadata": {
    "colab": {
     "base_uri": "https://localhost:8080/"
    },
    "id": "ceead0f1",
    "outputId": "9427812d-3c68-4012-d984-9de934df2142"
   },
   "outputs": [
    {
     "data": {
      "text/plain": [
       "Index(['obj_ID', 'alpha', 'delta', 'u', 'g', 'r', 'i', 'z', 'run_ID',\n",
       "       'rerun_ID', 'cam_col', 'field_ID', 'spec_obj_ID', 'redshift', 'plate',\n",
       "       'MJD', 'fiber_ID'],\n",
       "      dtype='object')"
      ]
     },
     "execution_count": 14,
     "metadata": {},
     "output_type": "execute_result"
    }
   ],
   "source": [
    "num_features=df_star.select_dtypes(include=np.number)\n",
    "num_features.columns"
   ]
  },
  {
   "cell_type": "code",
   "execution_count": 15,
   "id": "0f9ae7a9",
   "metadata": {
    "id": "0f9ae7a9"
   },
   "outputs": [],
   "source": [
    "def boundaries(data,variable):\n",
    "    LL=data[variable].quantile(.25)-(1.5*(data[variable].quantile(.75)-data[variable].quantile(.25)))\n",
    "    UL=data[variable].quantile(.75)+(1.5*(data[variable].quantile(.75)-data[variable].quantile(.25)))\n",
    "    return LL,UL"
   ]
  },
  {
   "cell_type": "code",
   "execution_count": 16,
   "id": "b3a81dac",
   "metadata": {
    "id": "b3a81dac"
   },
   "outputs": [],
   "source": [
    "cols=['obj_ID', 'alpha', 'delta', 'u', 'g', 'r', 'i', 'z', 'run_ID',\n",
    "       'rerun_ID', 'cam_col', 'field_ID', 'spec_obj_ID', 'redshift', 'plate',\n",
    "       'MJD', 'fiber_ID']"
   ]
  },
  {
   "cell_type": "code",
   "execution_count": 17,
   "id": "1d546916",
   "metadata": {
    "id": "1d546916"
   },
   "outputs": [],
   "source": [
    "for col in cols:\n",
    "    LL,UL=boundaries(df_star,col)\n",
    "    \n",
    "    df_star[col]=np.where(df_star[col]<LL,LL,\n",
    "                         np.where(df_star[col]>UL,UL,df_star[col]))"
   ]
  },
  {
   "cell_type": "code",
   "execution_count": 18,
   "id": "99a205dd",
   "metadata": {
    "colab": {
     "base_uri": "https://localhost:8080/",
     "height": 364
    },
    "id": "99a205dd",
    "outputId": "bcad5397-2094-4ffb-ea87-e52127562fb3"
   },
   "outputs": [
    {
     "data": {
      "text/html": [
       "<div>\n",
       "<style scoped>\n",
       "    .dataframe tbody tr th:only-of-type {\n",
       "        vertical-align: middle;\n",
       "    }\n",
       "\n",
       "    .dataframe tbody tr th {\n",
       "        vertical-align: top;\n",
       "    }\n",
       "\n",
       "    .dataframe thead th {\n",
       "        text-align: right;\n",
       "    }\n",
       "</style>\n",
       "<table border=\"1\" class=\"dataframe\">\n",
       "  <thead>\n",
       "    <tr style=\"text-align: right;\">\n",
       "      <th></th>\n",
       "      <th>obj_ID</th>\n",
       "      <th>alpha</th>\n",
       "      <th>delta</th>\n",
       "      <th>u</th>\n",
       "      <th>g</th>\n",
       "      <th>r</th>\n",
       "      <th>i</th>\n",
       "      <th>z</th>\n",
       "      <th>run_ID</th>\n",
       "      <th>rerun_ID</th>\n",
       "      <th>cam_col</th>\n",
       "      <th>field_ID</th>\n",
       "      <th>spec_obj_ID</th>\n",
       "      <th>redshift</th>\n",
       "      <th>plate</th>\n",
       "      <th>MJD</th>\n",
       "      <th>fiber_ID</th>\n",
       "    </tr>\n",
       "  </thead>\n",
       "  <tbody>\n",
       "    <tr>\n",
       "      <th>count</th>\n",
       "      <td>1.000000e+05</td>\n",
       "      <td>100000.000000</td>\n",
       "      <td>100000.000000</td>\n",
       "      <td>100000.000000</td>\n",
       "      <td>100000.000000</td>\n",
       "      <td>100000.000000</td>\n",
       "      <td>100000.000000</td>\n",
       "      <td>100000.000000</td>\n",
       "      <td>100000.000000</td>\n",
       "      <td>100000.0</td>\n",
       "      <td>100000.000000</td>\n",
       "      <td>100000.000000</td>\n",
       "      <td>1.000000e+05</td>\n",
       "      <td>100000.000000</td>\n",
       "      <td>100000.000000</td>\n",
       "      <td>100000.000000</td>\n",
       "      <td>100000.000000</td>\n",
       "    </tr>\n",
       "    <tr>\n",
       "      <th>mean</th>\n",
       "      <td>1.237665e+18</td>\n",
       "      <td>177.629117</td>\n",
       "      <td>24.135305</td>\n",
       "      <td>22.080882</td>\n",
       "      <td>20.631959</td>\n",
       "      <td>19.646463</td>\n",
       "      <td>19.085571</td>\n",
       "      <td>18.770243</td>\n",
       "      <td>4481.366060</td>\n",
       "      <td>301.0</td>\n",
       "      <td>3.511610</td>\n",
       "      <td>178.171855</td>\n",
       "      <td>5.783882e+18</td>\n",
       "      <td>0.508544</td>\n",
       "      <td>5137.009660</td>\n",
       "      <td>55588.647500</td>\n",
       "      <td>449.312740</td>\n",
       "    </tr>\n",
       "    <tr>\n",
       "      <th>std</th>\n",
       "      <td>8.438560e+12</td>\n",
       "      <td>96.502241</td>\n",
       "      <td>19.644665</td>\n",
       "      <td>2.249611</td>\n",
       "      <td>2.034380</td>\n",
       "      <td>1.850307</td>\n",
       "      <td>1.750812</td>\n",
       "      <td>1.757609</td>\n",
       "      <td>1964.764593</td>\n",
       "      <td>0.0</td>\n",
       "      <td>1.586912</td>\n",
       "      <td>124.742278</td>\n",
       "      <td>3.324016e+18</td>\n",
       "      <td>0.521890</td>\n",
       "      <td>2952.303351</td>\n",
       "      <td>1808.484233</td>\n",
       "      <td>272.498404</td>\n",
       "    </tr>\n",
       "    <tr>\n",
       "      <th>min</th>\n",
       "      <td>1.237646e+18</td>\n",
       "      <td>0.005528</td>\n",
       "      <td>-18.785328</td>\n",
       "      <td>15.349721</td>\n",
       "      <td>14.227424</td>\n",
       "      <td>13.772391</td>\n",
       "      <td>13.735970</td>\n",
       "      <td>13.770014</td>\n",
       "      <td>109.000000</td>\n",
       "      <td>301.0</td>\n",
       "      <td>1.000000</td>\n",
       "      <td>11.000000</td>\n",
       "      <td>2.995191e+17</td>\n",
       "      <td>-0.009971</td>\n",
       "      <td>266.000000</td>\n",
       "      <td>51608.000000</td>\n",
       "      <td>1.000000</td>\n",
       "    </tr>\n",
       "    <tr>\n",
       "      <th>25%</th>\n",
       "      <td>1.237659e+18</td>\n",
       "      <td>127.518222</td>\n",
       "      <td>5.146771</td>\n",
       "      <td>20.352353</td>\n",
       "      <td>18.965230</td>\n",
       "      <td>18.135828</td>\n",
       "      <td>17.732285</td>\n",
       "      <td>17.460677</td>\n",
       "      <td>3187.000000</td>\n",
       "      <td>301.0</td>\n",
       "      <td>2.000000</td>\n",
       "      <td>82.000000</td>\n",
       "      <td>2.844138e+18</td>\n",
       "      <td>0.054517</td>\n",
       "      <td>2526.000000</td>\n",
       "      <td>54234.000000</td>\n",
       "      <td>221.000000</td>\n",
       "    </tr>\n",
       "    <tr>\n",
       "      <th>50%</th>\n",
       "      <td>1.237663e+18</td>\n",
       "      <td>180.900700</td>\n",
       "      <td>23.645922</td>\n",
       "      <td>22.179135</td>\n",
       "      <td>21.099835</td>\n",
       "      <td>20.125290</td>\n",
       "      <td>19.405145</td>\n",
       "      <td>19.004595</td>\n",
       "      <td>4188.000000</td>\n",
       "      <td>301.0</td>\n",
       "      <td>4.000000</td>\n",
       "      <td>146.000000</td>\n",
       "      <td>5.614883e+18</td>\n",
       "      <td>0.424173</td>\n",
       "      <td>4987.000000</td>\n",
       "      <td>55868.500000</td>\n",
       "      <td>433.000000</td>\n",
       "    </tr>\n",
       "    <tr>\n",
       "      <th>75%</th>\n",
       "      <td>1.237668e+18</td>\n",
       "      <td>233.895005</td>\n",
       "      <td>39.901550</td>\n",
       "      <td>23.687440</td>\n",
       "      <td>22.123767</td>\n",
       "      <td>21.044785</td>\n",
       "      <td>20.396495</td>\n",
       "      <td>19.921120</td>\n",
       "      <td>5326.000000</td>\n",
       "      <td>301.0</td>\n",
       "      <td>5.000000</td>\n",
       "      <td>241.000000</td>\n",
       "      <td>8.332144e+18</td>\n",
       "      <td>0.704154</td>\n",
       "      <td>7400.250000</td>\n",
       "      <td>56777.000000</td>\n",
       "      <td>645.000000</td>\n",
       "    </tr>\n",
       "    <tr>\n",
       "      <th>max</th>\n",
       "      <td>1.237681e+18</td>\n",
       "      <td>359.999810</td>\n",
       "      <td>83.000519</td>\n",
       "      <td>28.690071</td>\n",
       "      <td>26.861574</td>\n",
       "      <td>25.408221</td>\n",
       "      <td>24.392810</td>\n",
       "      <td>23.611784</td>\n",
       "      <td>8162.000000</td>\n",
       "      <td>301.0</td>\n",
       "      <td>6.000000</td>\n",
       "      <td>479.500000</td>\n",
       "      <td>1.412694e+19</td>\n",
       "      <td>1.678611</td>\n",
       "      <td>12547.000000</td>\n",
       "      <td>58932.000000</td>\n",
       "      <td>1000.000000</td>\n",
       "    </tr>\n",
       "  </tbody>\n",
       "</table>\n",
       "</div>"
      ],
      "text/plain": [
       "             obj_ID          alpha          delta              u  \\\n",
       "count  1.000000e+05  100000.000000  100000.000000  100000.000000   \n",
       "mean   1.237665e+18     177.629117      24.135305      22.080882   \n",
       "std    8.438560e+12      96.502241      19.644665       2.249611   \n",
       "min    1.237646e+18       0.005528     -18.785328      15.349721   \n",
       "25%    1.237659e+18     127.518222       5.146771      20.352353   \n",
       "50%    1.237663e+18     180.900700      23.645922      22.179135   \n",
       "75%    1.237668e+18     233.895005      39.901550      23.687440   \n",
       "max    1.237681e+18     359.999810      83.000519      28.690071   \n",
       "\n",
       "                   g              r              i              z  \\\n",
       "count  100000.000000  100000.000000  100000.000000  100000.000000   \n",
       "mean       20.631959      19.646463      19.085571      18.770243   \n",
       "std         2.034380       1.850307       1.750812       1.757609   \n",
       "min        14.227424      13.772391      13.735970      13.770014   \n",
       "25%        18.965230      18.135828      17.732285      17.460677   \n",
       "50%        21.099835      20.125290      19.405145      19.004595   \n",
       "75%        22.123767      21.044785      20.396495      19.921120   \n",
       "max        26.861574      25.408221      24.392810      23.611784   \n",
       "\n",
       "              run_ID  rerun_ID        cam_col       field_ID   spec_obj_ID  \\\n",
       "count  100000.000000  100000.0  100000.000000  100000.000000  1.000000e+05   \n",
       "mean     4481.366060     301.0       3.511610     178.171855  5.783882e+18   \n",
       "std      1964.764593       0.0       1.586912     124.742278  3.324016e+18   \n",
       "min       109.000000     301.0       1.000000      11.000000  2.995191e+17   \n",
       "25%      3187.000000     301.0       2.000000      82.000000  2.844138e+18   \n",
       "50%      4188.000000     301.0       4.000000     146.000000  5.614883e+18   \n",
       "75%      5326.000000     301.0       5.000000     241.000000  8.332144e+18   \n",
       "max      8162.000000     301.0       6.000000     479.500000  1.412694e+19   \n",
       "\n",
       "            redshift          plate            MJD       fiber_ID  \n",
       "count  100000.000000  100000.000000  100000.000000  100000.000000  \n",
       "mean        0.508544    5137.009660   55588.647500     449.312740  \n",
       "std         0.521890    2952.303351    1808.484233     272.498404  \n",
       "min        -0.009971     266.000000   51608.000000       1.000000  \n",
       "25%         0.054517    2526.000000   54234.000000     221.000000  \n",
       "50%         0.424173    4987.000000   55868.500000     433.000000  \n",
       "75%         0.704154    7400.250000   56777.000000     645.000000  \n",
       "max         1.678611   12547.000000   58932.000000    1000.000000  "
      ]
     },
     "execution_count": 18,
     "metadata": {},
     "output_type": "execute_result"
    }
   ],
   "source": [
    "df_star.describe()"
   ]
  },
  {
   "cell_type": "code",
   "execution_count": 19,
   "id": "6699da65",
   "metadata": {
    "colab": {
     "base_uri": "https://localhost:8080/",
     "height": 279
    },
    "id": "6699da65",
    "outputId": "ccc5a079-2bb4-4c8e-9ffd-ab519279ba19"
   },
   "outputs": [
    {
     "data": {
      "image/png": "[encoded data removed]",
      "text/plain": [
       "<Figure size 432x288 with 1 Axes>"
      ]
     },
     "metadata": {
      "needs_background": "light"
     },
     "output_type": "display_data"
    }
   ],
   "source": [
    "sns.boxplot(x='plate',data=df_star)\n",
    "plt.show()"
   ]
  },
  {
   "cell_type": "markdown",
   "id": "76c5d638",
   "metadata": {
    "id": "76c5d638"
   },
   "source": [
    "The outliers have been treated now."
   ]
  },
  {
   "cell_type": "code",
   "execution_count": 20,
   "id": "5ba64d83",
   "metadata": {},
   "outputs": [],
   "source": [
    "#We will drop the obj_ID since we don't require it for our model building."
   ]
  },
  {
   "cell_type": "code",
   "execution_count": 21,
   "id": "cc7b1e76",
   "metadata": {
    "id": "cc7b1e76"
   },
   "outputs": [],
   "source": [
    "df_star=df_star.drop('obj_ID',axis=1)"
   ]
  },
  {
   "cell_type": "code",
   "execution_count": 22,
   "id": "e6cbc995",
   "metadata": {
    "id": "e6cbc995"
   },
   "outputs": [],
   "source": [
    "#Label Encoding the target variable"
   ]
  },
  {
   "cell_type": "code",
   "execution_count": 23,
   "id": "5cfad308",
   "metadata": {
    "id": "5cfad308"
   },
   "outputs": [],
   "source": [
    "le=LabelEncoder()"
   ]
  },
  {
   "cell_type": "code",
   "execution_count": 24,
   "id": "8d3e04f2",
   "metadata": {
    "id": "8d3e04f2"
   },
   "outputs": [],
   "source": [
    "df_star['class']=le.fit_transform(df_star['class'])"
   ]
  },
  {
   "cell_type": "code",
   "execution_count": 25,
   "id": "c9a69236",
   "metadata": {
    "colab": {
     "base_uri": "https://localhost:8080/"
    },
    "id": "c9a69236",
    "outputId": "11d05136-10ad-493b-e13b-c469db02338e"
   },
   "outputs": [
    {
     "data": {
      "text/plain": [
       "0    59445\n",
       "2    21594\n",
       "1    18961\n",
       "Name: class, dtype: int64"
      ]
     },
     "execution_count": 25,
     "metadata": {},
     "output_type": "execute_result"
    }
   ],
   "source": [
    "df_star['class'].value_counts()"
   ]
  },
  {
   "cell_type": "code",
   "execution_count": 26,
   "id": "2a9abe58",
   "metadata": {
    "id": "2a9abe58"
   },
   "outputs": [],
   "source": [
    "#Correlation matrix"
   ]
  },
  {
   "cell_type": "code",
   "execution_count": 27,
   "id": "13fdf12d",
   "metadata": {
    "id": "13fdf12d"
   },
   "outputs": [],
   "source": [
    "vcorr=df_star.corr()"
   ]
  },
  {
   "cell_type": "code",
   "execution_count": 28,
   "id": "fa67006f",
   "metadata": {
    "colab": {
     "base_uri": "https://localhost:8080/",
     "height": 318
    },
    "id": "fa67006f",
    "outputId": "739c9d5f-92bd-406d-b6ca-20cfdafc5dd8"
   },
   "outputs": [
    {
     "data": {
      "image/png": "[encoded data removed]",
      "text/plain": [
       "<Figure size 432x288 with 2 Axes>"
      ]
     },
     "metadata": {
      "needs_background": "light"
     },
     "output_type": "display_data"
    }
   ],
   "source": [
    "sns.heatmap(vcorr[(vcorr>0.80) | (vcorr<-0.80)],annot=True)\n",
    "plt.show()"
   ]
  },
  {
   "cell_type": "markdown",
   "id": "1beaea44",
   "metadata": {
    "id": "1beaea44"
   },
   "source": [
    "Since we have columns with high correlation, we will use PCA for dimensionality reduction."
   ]
  },
  {
   "cell_type": "code",
   "execution_count": 29,
   "id": "985ba534",
   "metadata": {
    "id": "985ba534"
   },
   "outputs": [],
   "source": [
    "df_star1=df_star.copy(deep=True)"
   ]
  },
  {
   "cell_type": "code",
   "execution_count": 30,
   "id": "661e4999",
   "metadata": {
    "id": "661e4999"
   },
   "outputs": [],
   "source": [
    "#Separating the dependent and independent variables"
   ]
  },
  {
   "cell_type": "code",
   "execution_count": 31,
   "id": "eb151e38",
   "metadata": {
    "id": "eb151e38"
   },
   "outputs": [],
   "source": [
    "X=df_star1.drop('class',axis=1)\n",
    "y=df_star1['class']"
   ]
  },
  {
   "cell_type": "code",
   "execution_count": 32,
   "id": "c8c38839",
   "metadata": {
    "id": "c8c38839"
   },
   "outputs": [],
   "source": [
    "#scaling the data"
   ]
  },
  {
   "cell_type": "code",
   "execution_count": 33,
   "id": "46251579",
   "metadata": {
    "id": "46251579"
   },
   "outputs": [],
   "source": [
    "sc=StandardScaler()"
   ]
  },
  {
   "cell_type": "code",
   "execution_count": 34,
   "id": "7be95938",
   "metadata": {
    "colab": {
     "base_uri": "https://localhost:8080/",
     "height": 488
    },
    "id": "7be95938",
    "outputId": "b3847d09-bbb9-4ac8-8f4f-89741c58fb89"
   },
   "outputs": [
    {
     "data": {
      "text/html": [
       "<div>\n",
       "<style scoped>\n",
       "    .dataframe tbody tr th:only-of-type {\n",
       "        vertical-align: middle;\n",
       "    }\n",
       "\n",
       "    .dataframe tbody tr th {\n",
       "        vertical-align: top;\n",
       "    }\n",
       "\n",
       "    .dataframe thead th {\n",
       "        text-align: right;\n",
       "    }\n",
       "</style>\n",
       "<table border=\"1\" class=\"dataframe\">\n",
       "  <thead>\n",
       "    <tr style=\"text-align: right;\">\n",
       "      <th></th>\n",
       "      <th>alpha</th>\n",
       "      <th>delta</th>\n",
       "      <th>u</th>\n",
       "      <th>g</th>\n",
       "      <th>r</th>\n",
       "      <th>i</th>\n",
       "      <th>z</th>\n",
       "      <th>run_ID</th>\n",
       "      <th>rerun_ID</th>\n",
       "      <th>cam_col</th>\n",
       "      <th>field_ID</th>\n",
       "      <th>spec_obj_ID</th>\n",
       "      <th>redshift</th>\n",
       "      <th>plate</th>\n",
       "      <th>MJD</th>\n",
       "      <th>fiber_ID</th>\n",
       "    </tr>\n",
       "  </thead>\n",
       "  <tbody>\n",
       "    <tr>\n",
       "      <th>0</th>\n",
       "      <td>-0.434604</td>\n",
       "      <td>0.425529</td>\n",
       "      <td>0.799226</td>\n",
       "      <td>0.807789</td>\n",
       "      <td>0.404555</td>\n",
       "      <td>0.045784</td>\n",
       "      <td>0.013352</td>\n",
       "      <td>-0.445535</td>\n",
       "      <td>0.0</td>\n",
       "      <td>-0.952553</td>\n",
       "      <td>-0.795018</td>\n",
       "      <td>0.228609</td>\n",
       "      <td>0.241909</td>\n",
       "      <td>0.228633</td>\n",
       "      <td>0.423203</td>\n",
       "      <td>-1.021342</td>\n",
       "    </tr>\n",
       "    <tr>\n",
       "      <th>1</th>\n",
       "      <td>-0.339921</td>\n",
       "      <td>0.363402</td>\n",
       "      <td>1.198751</td>\n",
       "      <td>1.081377</td>\n",
       "      <td>1.587840</td>\n",
       "      <td>1.189482</td>\n",
       "      <td>1.618131</td>\n",
       "      <td>0.018646</td>\n",
       "      <td>0.0</td>\n",
       "      <td>0.937920</td>\n",
       "      <td>-0.474355</td>\n",
       "      <td>1.797912</td>\n",
       "      <td>0.518487</td>\n",
       "      <td>1.797924</td>\n",
       "      <td>1.420729</td>\n",
       "      <td>-0.081883</td>\n",
       "    </tr>\n",
       "    <tr>\n",
       "      <th>2</th>\n",
       "      <td>-0.367251</td>\n",
       "      <td>0.582713</td>\n",
       "      <td>1.414558</td>\n",
       "      <td>0.998801</td>\n",
       "      <td>0.520617</td>\n",
       "      <td>0.150216</td>\n",
       "      <td>0.101290</td>\n",
       "      <td>-0.445535</td>\n",
       "      <td>0.0</td>\n",
       "      <td>-0.952553</td>\n",
       "      <td>-0.466339</td>\n",
       "      <td>-0.190037</td>\n",
       "      <td>0.259922</td>\n",
       "      <td>-0.190025</td>\n",
       "      <td>0.001854</td>\n",
       "      <td>-0.551612</td>\n",
       "    </tr>\n",
       "    <tr>\n",
       "      <th>3</th>\n",
       "      <td>1.669523</td>\n",
       "      <td>-1.249105</td>\n",
       "      <td>0.024866</td>\n",
       "      <td>1.545737</td>\n",
       "      <td>1.062076</td>\n",
       "      <td>0.810467</td>\n",
       "      <td>0.273018</td>\n",
       "      <td>-0.147278</td>\n",
       "      <td>0.0</td>\n",
       "      <td>-0.322395</td>\n",
       "      <td>0.287219</td>\n",
       "      <td>1.358962</td>\n",
       "      <td>0.812055</td>\n",
       "      <td>1.358942</td>\n",
       "      <td>1.354927</td>\n",
       "      <td>1.195196</td>\n",
       "    </tr>\n",
       "    <tr>\n",
       "      <th>4</th>\n",
       "      <td>1.737310</td>\n",
       "      <td>-0.150242</td>\n",
       "      <td>-1.175188</td>\n",
       "      <td>-1.500061</td>\n",
       "      <td>-1.701885</td>\n",
       "      <td>-1.775448</td>\n",
       "      <td>-1.835248</td>\n",
       "      <td>1.842792</td>\n",
       "      <td>0.0</td>\n",
       "      <td>-0.322395</td>\n",
       "      <td>-0.330057</td>\n",
       "      <td>0.333328</td>\n",
       "      <td>-0.751928</td>\n",
       "      <td>0.333297</td>\n",
       "      <td>0.330860</td>\n",
       "      <td>1.441070</td>\n",
       "    </tr>\n",
       "    <tr>\n",
       "      <th>...</th>\n",
       "      <td>...</td>\n",
       "      <td>...</td>\n",
       "      <td>...</td>\n",
       "      <td>...</td>\n",
       "      <td>...</td>\n",
       "      <td>...</td>\n",
       "      <td>...</td>\n",
       "      <td>...</td>\n",
       "      <td>...</td>\n",
       "      <td>...</td>\n",
       "      <td>...</td>\n",
       "      <td>...</td>\n",
       "      <td>...</td>\n",
       "      <td>...</td>\n",
       "      <td>...</td>\n",
       "      <td>...</td>\n",
       "    </tr>\n",
       "    <tr>\n",
       "      <th>99995</th>\n",
       "      <td>-1.430113</td>\n",
       "      <td>-1.360650</td>\n",
       "      <td>0.038544</td>\n",
       "      <td>1.152151</td>\n",
       "      <td>1.220116</td>\n",
       "      <td>1.267937</td>\n",
       "      <td>1.118256</td>\n",
       "      <td>1.677886</td>\n",
       "      <td>0.0</td>\n",
       "      <td>-0.952553</td>\n",
       "      <td>2.415618</td>\n",
       "      <td>1.435146</td>\n",
       "      <td>-0.974434</td>\n",
       "      <td>1.435155</td>\n",
       "      <td>1.194571</td>\n",
       "      <td>-0.041515</td>\n",
       "    </tr>\n",
       "    <tr>\n",
       "      <th>99996</th>\n",
       "      <td>-1.535053</td>\n",
       "      <td>-0.220744</td>\n",
       "      <td>0.271292</td>\n",
       "      <td>0.862341</td>\n",
       "      <td>0.434291</td>\n",
       "      <td>0.383835</td>\n",
       "      <td>0.366987</td>\n",
       "      <td>1.748632</td>\n",
       "      <td>0.0</td>\n",
       "      <td>-1.582710</td>\n",
       "      <td>0.888461</td>\n",
       "      <td>0.843101</td>\n",
       "      <td>-0.198605</td>\n",
       "      <td>0.843071</td>\n",
       "      <td>0.743915</td>\n",
       "      <td>1.529144</td>\n",
       "    </tr>\n",
       "    <tr>\n",
       "      <th>99997</th>\n",
       "      <td>0.486606</td>\n",
       "      <td>-0.429360</td>\n",
       "      <td>-0.405282</td>\n",
       "      <td>-0.669490</td>\n",
       "      <td>-0.779433</td>\n",
       "      <td>-0.796909</td>\n",
       "      <td>-0.806801</td>\n",
       "      <td>0.423785</td>\n",
       "      <td>0.0</td>\n",
       "      <td>0.307763</td>\n",
       "      <td>1.040776</td>\n",
       "      <td>-0.803813</td>\n",
       "      <td>-0.699727</td>\n",
       "      <td>-0.803786</td>\n",
       "      <td>-0.582617</td>\n",
       "      <td>-1.377309</td>\n",
       "    </tr>\n",
       "    <tr>\n",
       "      <th>99998</th>\n",
       "      <td>0.358952</td>\n",
       "      <td>1.146631</td>\n",
       "      <td>1.453374</td>\n",
       "      <td>0.494311</td>\n",
       "      <td>0.144515</td>\n",
       "      <td>-0.007443</td>\n",
       "      <td>-0.082739</td>\n",
       "      <td>-0.423140</td>\n",
       "      <td>0.0</td>\n",
       "      <td>0.307763</td>\n",
       "      <td>-0.378156</td>\n",
       "      <td>0.546690</td>\n",
       "      <td>-0.102522</td>\n",
       "      <td>0.546691</td>\n",
       "      <td>0.430945</td>\n",
       "      <td>0.075917</td>\n",
       "    </tr>\n",
       "    <tr>\n",
       "      <th>99999</th>\n",
       "      <td>0.199654</td>\n",
       "      <td>1.289381</td>\n",
       "      <td>0.240411</td>\n",
       "      <td>0.572900</td>\n",
       "      <td>0.515964</td>\n",
       "      <td>0.527768</td>\n",
       "      <td>0.290457</td>\n",
       "      <td>-0.423140</td>\n",
       "      <td>0.0</td>\n",
       "      <td>0.307763</td>\n",
       "      <td>-0.947333</td>\n",
       "      <td>0.769937</td>\n",
       "      <td>0.065914</td>\n",
       "      <td>0.769908</td>\n",
       "      <td>0.837917</td>\n",
       "      <td>1.474098</td>\n",
       "    </tr>\n",
       "  </tbody>\n",
       "</table>\n",
       "<p>100000 rows × 16 columns</p>\n",
       "</div>"
      ],
      "text/plain": [
       "          alpha     delta         u         g         r         i         z  \\\n",
       "0     -0.434604  0.425529  0.799226  0.807789  0.404555  0.045784  0.013352   \n",
       "1     -0.339921  0.363402  1.198751  1.081377  1.587840  1.189482  1.618131   \n",
       "2     -0.367251  0.582713  1.414558  0.998801  0.520617  0.150216  0.101290   \n",
       "3      1.669523 -1.249105  0.024866  1.545737  1.062076  0.810467  0.273018   \n",
       "4      1.737310 -0.150242 -1.175188 -1.500061 -1.701885 -1.775448 -1.835248   \n",
       "...         ...       ...       ...       ...       ...       ...       ...   \n",
       "99995 -1.430113 -1.360650  0.038544  1.152151  1.220116  1.267937  1.118256   \n",
       "99996 -1.535053 -0.220744  0.271292  0.862341  0.434291  0.383835  0.366987   \n",
       "99997  0.486606 -0.429360 -0.405282 -0.669490 -0.779433 -0.796909 -0.806801   \n",
       "99998  0.358952  1.146631  1.453374  0.494311  0.144515 -0.007443 -0.082739   \n",
       "99999  0.199654  1.289381  0.240411  0.572900  0.515964  0.527768  0.290457   \n",
       "\n",
       "         run_ID  rerun_ID   cam_col  field_ID  spec_obj_ID  redshift  \\\n",
       "0     -0.445535       0.0 -0.952553 -0.795018     0.228609  0.241909   \n",
       "1      0.018646       0.0  0.937920 -0.474355     1.797912  0.518487   \n",
       "2     -0.445535       0.0 -0.952553 -0.466339    -0.190037  0.259922   \n",
       "3     -0.147278       0.0 -0.322395  0.287219     1.358962  0.812055   \n",
       "4      1.842792       0.0 -0.322395 -0.330057     0.333328 -0.751928   \n",
       "...         ...       ...       ...       ...          ...       ...   \n",
       "99995  1.677886       0.0 -0.952553  2.415618     1.435146 -0.974434   \n",
       "99996  1.748632       0.0 -1.582710  0.888461     0.843101 -0.198605   \n",
       "99997  0.423785       0.0  0.307763  1.040776    -0.803813 -0.699727   \n",
       "99998 -0.423140       0.0  0.307763 -0.378156     0.546690 -0.102522   \n",
       "99999 -0.423140       0.0  0.307763 -0.947333     0.769937  0.065914   \n",
       "\n",
       "          plate       MJD  fiber_ID  \n",
       "0      0.228633  0.423203 -1.021342  \n",
       "1      1.797924  1.420729 -0.081883  \n",
       "2     -0.190025  0.001854 -0.551612  \n",
       "3      1.358942  1.354927  1.195196  \n",
       "4      0.333297  0.330860  1.441070  \n",
       "...         ...       ...       ...  \n",
       "99995  1.435155  1.194571 -0.041515  \n",
       "99996  0.843071  0.743915  1.529144  \n",
       "99997 -0.803786 -0.582617 -1.377309  \n",
       "99998  0.546691  0.430945  0.075917  \n",
       "99999  0.769908  0.837917  1.474098  \n",
       "\n",
       "[100000 rows x 16 columns]"
      ]
     },
     "execution_count": 34,
     "metadata": {},
     "output_type": "execute_result"
    }
   ],
   "source": [
    "X_scaled=sc.fit_transform(X)\n",
    "df_X_scaled=pd.DataFrame(X_scaled,columns=X.columns)\n",
    "df_X_scaled"
   ]
  },
  {
   "cell_type": "code",
   "execution_count": 35,
   "id": "e793675f",
   "metadata": {
    "id": "e793675f"
   },
   "outputs": [],
   "source": [
    "pca=PCA()"
   ]
  },
  {
   "cell_type": "code",
   "execution_count": 36,
   "id": "9eeda524",
   "metadata": {
    "id": "9eeda524"
   },
   "outputs": [],
   "source": [
    "pca_star=pca.fit_transform(df_X_scaled)"
   ]
  },
  {
   "cell_type": "code",
   "execution_count": 37,
   "id": "108067c6",
   "metadata": {
    "colab": {
     "base_uri": "https://localhost:8080/"
    },
    "id": "108067c6",
    "outputId": "c41c605a-2116-4754-8449-e09a59404d0b"
   },
   "outputs": [
    {
     "data": {
      "text/plain": [
       "array([[-8.69580998e-01, -1.80345443e-01, -5.69476653e-01, ...,\n",
       "        -6.90123396e-02, -1.63633336e-14,  4.09925297e-18],\n",
       "       [-4.09689042e+00, -5.75103669e-01, -7.62834769e-02, ...,\n",
       "        -3.68772767e-01,  2.23123670e-14, -2.08961661e-17],\n",
       "       [-8.43929314e-01,  2.13183913e-01, -1.31087245e+00, ...,\n",
       "        -5.83119142e-02, -1.94871443e-13, -1.91507270e-17],\n",
       "       ...,\n",
       "       [ 2.24596030e+00,  8.05276273e-01,  2.76929362e-01, ...,\n",
       "         8.39050049e-03,  1.16409817e-13,  1.41423662e-19],\n",
       "       [-1.05994774e+00, -1.06390616e+00, -7.53081229e-01, ...,\n",
       "         1.58102586e-02, -2.26333473e-14, -2.16683692e-19],\n",
       "       [-1.72834046e+00, -1.75900416e+00, -3.04334186e-01, ...,\n",
       "         8.27217058e-02,  1.03005984e-14, -1.65522441e-19]])"
      ]
     },
     "execution_count": 37,
     "metadata": {},
     "output_type": "execute_result"
    }
   ],
   "source": [
    "pca_star"
   ]
  },
  {
   "cell_type": "code",
   "execution_count": 38,
   "id": "b2683d4e",
   "metadata": {
    "colab": {
     "base_uri": "https://localhost:8080/"
    },
    "id": "b2683d4e",
    "outputId": "91cb73b9-36fa-4124-a0c1-74e3ed647516"
   },
   "outputs": [
    {
     "name": "stdout",
     "output_type": "stream",
     "text": [
      "[0.43410962 0.53198128 0.61856484 0.69061171 0.76083909 0.81809367\n",
      " 0.87372893 0.9261388  0.96381393 0.98914851 0.99524144 0.99771215\n",
      " 0.99914776 1.         1.         1.        ]\n"
     ]
    }
   ],
   "source": [
    "print(np.cumsum(pca.explained_variance_ratio_))"
   ]
  },
  {
   "cell_type": "markdown",
   "id": "8bdd5724",
   "metadata": {
    "id": "8bdd5724"
   },
   "source": [
    "With 9 features, we can capture 96% of the variance."
   ]
  },
  {
   "cell_type": "code",
   "execution_count": 39,
   "id": "c7a4ee39",
   "metadata": {
    "id": "c7a4ee39"
   },
   "outputs": [],
   "source": [
    "df_pca_star=pd.DataFrame(pca_star[:,:9])"
   ]
  },
  {
   "cell_type": "code",
   "execution_count": 40,
   "id": "2b5893a7",
   "metadata": {
    "colab": {
     "base_uri": "https://localhost:8080/",
     "height": 424
    },
    "id": "2b5893a7",
    "outputId": "e7b7304a-7072-41fb-9dc2-615c2eba8c19"
   },
   "outputs": [
    {
     "data": {
      "text/html": [
       "<div>\n",
       "<style scoped>\n",
       "    .dataframe tbody tr th:only-of-type {\n",
       "        vertical-align: middle;\n",
       "    }\n",
       "\n",
       "    .dataframe tbody tr th {\n",
       "        vertical-align: top;\n",
       "    }\n",
       "\n",
       "    .dataframe thead th {\n",
       "        text-align: right;\n",
       "    }\n",
       "</style>\n",
       "<table border=\"1\" class=\"dataframe\">\n",
       "  <thead>\n",
       "    <tr style=\"text-align: right;\">\n",
       "      <th></th>\n",
       "      <th>0</th>\n",
       "      <th>1</th>\n",
       "      <th>2</th>\n",
       "      <th>3</th>\n",
       "      <th>4</th>\n",
       "      <th>5</th>\n",
       "      <th>6</th>\n",
       "      <th>7</th>\n",
       "      <th>8</th>\n",
       "    </tr>\n",
       "  </thead>\n",
       "  <tbody>\n",
       "    <tr>\n",
       "      <th>0</th>\n",
       "      <td>-0.869581</td>\n",
       "      <td>-0.180345</td>\n",
       "      <td>-0.569477</td>\n",
       "      <td>1.470739</td>\n",
       "      <td>0.470233</td>\n",
       "      <td>-0.545879</td>\n",
       "      <td>-0.721875</td>\n",
       "      <td>-0.323445</td>\n",
       "      <td>0.048740</td>\n",
       "    </tr>\n",
       "    <tr>\n",
       "      <th>1</th>\n",
       "      <td>-4.096890</td>\n",
       "      <td>-0.575104</td>\n",
       "      <td>-0.076283</td>\n",
       "      <td>-0.192978</td>\n",
       "      <td>-0.393599</td>\n",
       "      <td>-0.921953</td>\n",
       "      <td>-0.162364</td>\n",
       "      <td>-0.805483</td>\n",
       "      <td>0.309995</td>\n",
       "    </tr>\n",
       "    <tr>\n",
       "      <th>2</th>\n",
       "      <td>-0.843929</td>\n",
       "      <td>0.213184</td>\n",
       "      <td>-1.310872</td>\n",
       "      <td>1.163570</td>\n",
       "      <td>0.449420</td>\n",
       "      <td>-0.008141</td>\n",
       "      <td>-0.815740</td>\n",
       "      <td>-0.203242</td>\n",
       "      <td>-0.351335</td>\n",
       "    </tr>\n",
       "    <tr>\n",
       "      <th>3</th>\n",
       "      <td>-2.979425</td>\n",
       "      <td>-0.240121</td>\n",
       "      <td>0.633447</td>\n",
       "      <td>-0.632106</td>\n",
       "      <td>0.748343</td>\n",
       "      <td>1.244618</td>\n",
       "      <td>0.793060</td>\n",
       "      <td>0.515932</td>\n",
       "      <td>1.529764</td>\n",
       "    </tr>\n",
       "    <tr>\n",
       "      <th>4</th>\n",
       "      <td>2.248068</td>\n",
       "      <td>-1.327334</td>\n",
       "      <td>2.969101</td>\n",
       "      <td>-1.566454</td>\n",
       "      <td>1.547393</td>\n",
       "      <td>1.405724</td>\n",
       "      <td>-0.220505</td>\n",
       "      <td>0.067002</td>\n",
       "      <td>-0.167643</td>\n",
       "    </tr>\n",
       "    <tr>\n",
       "      <th>...</th>\n",
       "      <td>...</td>\n",
       "      <td>...</td>\n",
       "      <td>...</td>\n",
       "      <td>...</td>\n",
       "      <td>...</td>\n",
       "      <td>...</td>\n",
       "      <td>...</td>\n",
       "      <td>...</td>\n",
       "      <td>...</td>\n",
       "    </tr>\n",
       "    <tr>\n",
       "      <th>99995</th>\n",
       "      <td>-2.941604</td>\n",
       "      <td>2.758377</td>\n",
       "      <td>1.954660</td>\n",
       "      <td>0.571824</td>\n",
       "      <td>-0.767099</td>\n",
       "      <td>0.890616</td>\n",
       "      <td>-0.396287</td>\n",
       "      <td>-1.193240</td>\n",
       "      <td>0.337265</td>\n",
       "    </tr>\n",
       "    <tr>\n",
       "      <th>99996</th>\n",
       "      <td>-1.895048</td>\n",
       "      <td>1.460242</td>\n",
       "      <td>1.702036</td>\n",
       "      <td>0.171562</td>\n",
       "      <td>-0.324622</td>\n",
       "      <td>1.227818</td>\n",
       "      <td>-1.747637</td>\n",
       "      <td>0.384857</td>\n",
       "      <td>-0.810203</td>\n",
       "    </tr>\n",
       "    <tr>\n",
       "      <th>99997</th>\n",
       "      <td>2.245960</td>\n",
       "      <td>0.805276</td>\n",
       "      <td>0.276929</td>\n",
       "      <td>0.134179</td>\n",
       "      <td>0.257379</td>\n",
       "      <td>0.042632</td>\n",
       "      <td>1.050267</td>\n",
       "      <td>-1.141111</td>\n",
       "      <td>-0.087683</td>\n",
       "    </tr>\n",
       "    <tr>\n",
       "      <th>99998</th>\n",
       "      <td>-1.059948</td>\n",
       "      <td>-1.063906</td>\n",
       "      <td>-0.753081</td>\n",
       "      <td>-0.110435</td>\n",
       "      <td>0.126380</td>\n",
       "      <td>0.245222</td>\n",
       "      <td>-0.609195</td>\n",
       "      <td>-0.978360</td>\n",
       "      <td>-0.155204</td>\n",
       "    </tr>\n",
       "    <tr>\n",
       "      <th>99999</th>\n",
       "      <td>-1.728340</td>\n",
       "      <td>-1.759004</td>\n",
       "      <td>-0.304334</td>\n",
       "      <td>-0.686009</td>\n",
       "      <td>-0.216078</td>\n",
       "      <td>0.334150</td>\n",
       "      <td>-0.980694</td>\n",
       "      <td>0.292478</td>\n",
       "      <td>-0.130415</td>\n",
       "    </tr>\n",
       "  </tbody>\n",
       "</table>\n",
       "<p>100000 rows × 9 columns</p>\n",
       "</div>"
      ],
      "text/plain": [
       "              0         1         2         3         4         5         6  \\\n",
       "0     -0.869581 -0.180345 -0.569477  1.470739  0.470233 -0.545879 -0.721875   \n",
       "1     -4.096890 -0.575104 -0.076283 -0.192978 -0.393599 -0.921953 -0.162364   \n",
       "2     -0.843929  0.213184 -1.310872  1.163570  0.449420 -0.008141 -0.815740   \n",
       "3     -2.979425 -0.240121  0.633447 -0.632106  0.748343  1.244618  0.793060   \n",
       "4      2.248068 -1.327334  2.969101 -1.566454  1.547393  1.405724 -0.220505   \n",
       "...         ...       ...       ...       ...       ...       ...       ...   \n",
       "99995 -2.941604  2.758377  1.954660  0.571824 -0.767099  0.890616 -0.396287   \n",
       "99996 -1.895048  1.460242  1.702036  0.171562 -0.324622  1.227818 -1.747637   \n",
       "99997  2.245960  0.805276  0.276929  0.134179  0.257379  0.042632  1.050267   \n",
       "99998 -1.059948 -1.063906 -0.753081 -0.110435  0.126380  0.245222 -0.609195   \n",
       "99999 -1.728340 -1.759004 -0.304334 -0.686009 -0.216078  0.334150 -0.980694   \n",
       "\n",
       "              7         8  \n",
       "0     -0.323445  0.048740  \n",
       "1     -0.805483  0.309995  \n",
       "2     -0.203242 -0.351335  \n",
       "3      0.515932  1.529764  \n",
       "4      0.067002 -0.167643  \n",
       "...         ...       ...  \n",
       "99995 -1.193240  0.337265  \n",
       "99996  0.384857 -0.810203  \n",
       "99997 -1.141111 -0.087683  \n",
       "99998 -0.978360 -0.155204  \n",
       "99999  0.292478 -0.130415  \n",
       "\n",
       "[100000 rows x 9 columns]"
      ]
     },
     "execution_count": 40,
     "metadata": {},
     "output_type": "execute_result"
    }
   ],
   "source": [
    "df_pca_star"
   ]
  },
  {
   "cell_type": "code",
   "execution_count": 41,
   "id": "283edb62",
   "metadata": {
    "id": "283edb62"
   },
   "outputs": [],
   "source": [
    "#correlation matrix"
   ]
  },
  {
   "cell_type": "code",
   "execution_count": 42,
   "id": "e9b6c85f",
   "metadata": {
    "id": "e9b6c85f"
   },
   "outputs": [],
   "source": [
    "vcorr1=df_pca_star.corr()"
   ]
  },
  {
   "cell_type": "code",
   "execution_count": 43,
   "id": "d2903ec3",
   "metadata": {
    "colab": {
     "base_uri": "https://localhost:8080/",
     "height": 269
    },
    "id": "d2903ec3",
    "outputId": "ade9ee30-4203-4d05-d5ed-30fe71082368"
   },
   "outputs": [
    {
     "data": {
      "image/png": "[encoded data removed]",
      "text/plain": [
       "<Figure size 432x288 with 2 Axes>"
      ]
     },
     "metadata": {
      "needs_background": "light"
     },
     "output_type": "display_data"
    }
   ],
   "source": [
    "sns.heatmap(vcorr1[(vcorr1>0.80) | (vcorr1<-0.80)],annot=True)\n",
    "plt.show()"
   ]
  },
  {
   "cell_type": "markdown",
   "id": "efa52c62",
   "metadata": {
    "id": "efa52c62"
   },
   "source": [
    "Now we can find that there is no strong correlation between the features."
   ]
  },
  {
   "cell_type": "markdown",
   "id": "866a7713",
   "metadata": {
    "id": "053b8d5b"
   },
   "source": [
    "## 4.Spliiting into train and test data"
   ]
  },
  {
   "cell_type": "code",
   "execution_count": 44,
   "id": "134497c3",
   "metadata": {
    "id": "134497c3"
   },
   "outputs": [],
   "source": [
    "X_train,X_test,y_train,y_test=train_test_split(df_pca_star,y,test_size=0.25,random_state=1)"
   ]
  },
  {
   "cell_type": "code",
   "execution_count": 45,
   "id": "f91a5e89",
   "metadata": {
    "colab": {
     "base_uri": "https://localhost:8080/"
    },
    "id": "f91a5e89",
    "outputId": "b3b909e1-cc4e-475a-d238-2c3c50170081"
   },
   "outputs": [
    {
     "data": {
      "text/plain": [
       "((75000, 9), (25000, 9), (75000,), (25000,))"
      ]
     },
     "execution_count": 45,
     "metadata": {},
     "output_type": "execute_result"
    }
   ],
   "source": [
    "X_train.shape,X_test.shape,y_train.shape,y_test.shape"
   ]
  },
  {
   "cell_type": "markdown",
   "id": "cd9568d2",
   "metadata": {
    "id": "9c4a8148"
   },
   "source": [
    "## 5.Model Building using ML"
   ]
  },
  {
   "cell_type": "code",
   "execution_count": 46,
   "id": "c8f8367c",
   "metadata": {
    "id": "c8f8367c"
   },
   "outputs": [],
   "source": [
    "models=[LogisticRegression(),DecisionTreeClassifier(),RandomForestClassifier(),XGBClassifier(),GaussianNB()]"
   ]
  },
  {
   "cell_type": "code",
   "execution_count": 47,
   "id": "dce900d3",
   "metadata": {
    "colab": {
     "base_uri": "https://localhost:8080/"
    },
    "id": "dce900d3",
    "outputId": "651fd158-c713-4105-9b9f-34d0ffd2c9cd"
   },
   "outputs": [
    {
     "name": "stdout",
     "output_type": "stream",
     "text": [
      "LogisticRegression(): \n",
      "Accuracy score: \n",
      "0.78412\n",
      "Confusion Matrix: \n",
      "[[13784   244   809]\n",
      " [  548  4243     5]\n",
      " [ 3790     1  1576]]\n",
      "Classification Report: \n",
      "              precision    recall  f1-score   support\n",
      "\n",
      "           0       0.76      0.93      0.84     14837\n",
      "           1       0.95      0.88      0.91      4796\n",
      "           2       0.66      0.29      0.41      5367\n",
      "\n",
      "    accuracy                           0.78     25000\n",
      "   macro avg       0.79      0.70      0.72     25000\n",
      "weighted avg       0.77      0.78      0.76     25000\n",
      "\n",
      "\n",
      "DecisionTreeClassifier(): \n",
      "Accuracy score: \n",
      "0.81588\n",
      "Confusion Matrix: \n",
      "[[12640   563  1634]\n",
      " [  537  4160    99]\n",
      " [ 1676    94  3597]]\n",
      "Classification Report: \n",
      "              precision    recall  f1-score   support\n",
      "\n",
      "           0       0.85      0.85      0.85     14837\n",
      "           1       0.86      0.87      0.87      4796\n",
      "           2       0.67      0.67      0.67      5367\n",
      "\n",
      "    accuracy                           0.82     25000\n",
      "   macro avg       0.80      0.80      0.80     25000\n",
      "weighted avg       0.82      0.82      0.82     25000\n",
      "\n",
      "\n",
      "RandomForestClassifier(): \n",
      "Accuracy score: \n",
      "0.88884\n",
      "Confusion Matrix: \n",
      "[[14168   166   503]\n",
      " [  463  4300    33]\n",
      " [ 1605     9  3753]]\n",
      "Classification Report: \n",
      "              precision    recall  f1-score   support\n",
      "\n",
      "           0       0.87      0.95      0.91     14837\n",
      "           1       0.96      0.90      0.93      4796\n",
      "           2       0.88      0.70      0.78      5367\n",
      "\n",
      "    accuracy                           0.89     25000\n",
      "   macro avg       0.90      0.85      0.87     25000\n",
      "weighted avg       0.89      0.89      0.89     25000\n",
      "\n",
      "\n",
      "XGBClassifier(base_score=0.5, booster='gbtree', callbacks=None,\n",
      "              colsample_bylevel=1, colsample_bynode=1, colsample_bytree=1,\n",
      "              early_stopping_rounds=None, enable_categorical=False,\n",
      "              eval_metric=None, gamma=0, gpu_id=-1, grow_policy='depthwise',\n",
      "              importance_type=None, interaction_constraints='',\n",
      "              learning_rate=0.300000012, max_bin=256, max_cat_to_onehot=4,\n",
      "              max_delta_step=0, max_depth=6, max_leaves=0, min_child_weight=1,\n",
      "              missing=nan, monotone_constraints='()', n_estimators=100,\n",
      "              n_jobs=0, num_parallel_tree=1, objective='multi:softprob',\n",
      "              predictor='auto', random_state=0, reg_alpha=0, ...): \n",
      "Accuracy score: \n",
      "0.87148\n",
      "Confusion Matrix: \n",
      "[[14017   193   627]\n",
      " [  423  4346    27]\n",
      " [ 1938     5  3424]]\n",
      "Classification Report: \n",
      "              precision    recall  f1-score   support\n",
      "\n",
      "           0       0.86      0.94      0.90     14837\n",
      "           1       0.96      0.91      0.93      4796\n",
      "           2       0.84      0.64      0.73      5367\n",
      "\n",
      "    accuracy                           0.87     25000\n",
      "   macro avg       0.88      0.83      0.85     25000\n",
      "weighted avg       0.87      0.87      0.87     25000\n",
      "\n",
      "\n",
      "GaussianNB(): \n",
      "Accuracy score: \n",
      "0.76416\n",
      "Confusion Matrix: \n",
      "[[14113   126   598]\n",
      " [  771  3969    56]\n",
      " [ 4345     0  1022]]\n",
      "Classification Report: \n",
      "              precision    recall  f1-score   support\n",
      "\n",
      "           0       0.73      0.95      0.83     14837\n",
      "           1       0.97      0.83      0.89      4796\n",
      "           2       0.61      0.19      0.29      5367\n",
      "\n",
      "    accuracy                           0.76     25000\n",
      "   macro avg       0.77      0.66      0.67     25000\n",
      "weighted avg       0.75      0.76      0.73     25000\n",
      "\n",
      "\n"
     ]
    }
   ],
   "source": [
    "for i in range(5):\n",
    "    models[i].fit(X_train,y_train)\n",
    "    \n",
    "    print(f'{models[i]}: ')\n",
    "    y_pred=models[i].predict(X_test)\n",
    "    print('Accuracy score: ')\n",
    "    print(accuracy_score(y_test,y_pred))\n",
    "    \\\n",
    "    print('Confusion Matrix: ')\n",
    "    print(confusion_matrix(y_test,y_pred))\n",
    "    \\\n",
    "    print('Classification Report: ')\n",
    "    print(classification_report(y_test,y_pred))\n",
    "    print()"
   ]
  },
  {
   "cell_type": "markdown",
   "id": "30f2d926",
   "metadata": {
    "id": "30f2d926"
   },
   "source": [
    "We can find that the accuracy score with RandomForestClassifier model is the highest(89%).We will try building the model using Neural Network."
   ]
  },
  {
   "cell_type": "markdown",
   "id": "b4ecc2eb",
   "metadata": {
    "id": "111abdba"
   },
   "source": [
    "## 6.Neural Network"
   ]
  },
  {
   "cell_type": "code",
   "execution_count": 48,
   "id": "18a0af8b",
   "metadata": {
    "id": "18a0af8b"
   },
   "outputs": [],
   "source": [
    "classifier=Sequential()"
   ]
  },
  {
   "cell_type": "code",
   "execution_count": 49,
   "id": "CdAoq-7As1Vp",
   "metadata": {
    "colab": {
     "base_uri": "https://localhost:8080/"
    },
    "id": "CdAoq-7As1Vp",
    "outputId": "0534e88c-248c-4f05-bc6e-4a44755cc92a"
   },
   "outputs": [
    {
     "data": {
      "text/plain": [
       "((100000, 16), (100000,))"
      ]
     },
     "execution_count": 49,
     "metadata": {},
     "output_type": "execute_result"
    }
   ],
   "source": [
    "X.shape,y.shape"
   ]
  },
  {
   "cell_type": "code",
   "execution_count": 50,
   "id": "69d89493",
   "metadata": {
    "colab": {
     "base_uri": "https://localhost:8080/"
    },
    "id": "69d89493",
    "outputId": "f2ade5c2-5a87-4ef2-87f5-e5f4edcdc0a4"
   },
   "outputs": [
    {
     "data": {
      "text/plain": [
       "(75000, 9)"
      ]
     },
     "execution_count": 50,
     "metadata": {},
     "output_type": "execute_result"
    }
   ],
   "source": [
    "X_train.shape"
   ]
  },
  {
   "cell_type": "markdown",
   "id": "3ce4bd93",
   "metadata": {},
   "source": [
    "Since we have three categories labelled as 0,1,2 we need to convert it into 0,1 for our model to interpret properly.So,we will use function(to_categorical) for this purpose."
   ]
  },
  {
   "cell_type": "code",
   "execution_count": 51,
   "id": "CUf5Hp6fmMhK",
   "metadata": {
    "id": "CUf5Hp6fmMhK"
   },
   "outputs": [],
   "source": [
    "y_train_dummy=to_categorical(y_train)"
   ]
  },
  {
   "cell_type": "code",
   "execution_count": 52,
   "id": "4bb1d203",
   "metadata": {},
   "outputs": [],
   "source": [
    "y_test_dummy=to_categorical(y_test)"
   ]
  },
  {
   "cell_type": "code",
   "execution_count": 53,
   "id": "RpxG6uQIm3Zo",
   "metadata": {
    "colab": {
     "base_uri": "https://localhost:8080/"
    },
    "id": "RpxG6uQIm3Zo",
    "outputId": "00c0a106-9670-4c01-a214-77fbfe33d5fe"
   },
   "outputs": [
    {
     "data": {
      "text/plain": [
       "(75000, 3)"
      ]
     },
     "execution_count": 53,
     "metadata": {},
     "output_type": "execute_result"
    }
   ],
   "source": [
    "y_train_dummy.shape"
   ]
  },
  {
   "cell_type": "code",
   "execution_count": 54,
   "id": "7f0b9123",
   "metadata": {
    "id": "7f0b9123"
   },
   "outputs": [],
   "source": [
    "#Adding Input layer and hidden layers\n",
    "classifier.add(Dense(9,kernel_initializer='uniform',activation='relu',input_dim=9))\n",
    "classifier.add(Dense(9,kernel_initializer='uniform',activation='relu'))"
   ]
  },
  {
   "cell_type": "code",
   "execution_count": 55,
   "id": "b2dc3d91",
   "metadata": {
    "id": "b2dc3d91"
   },
   "outputs": [],
   "source": [
    "#Adding output layer\n",
    "classifier.add(Dense(3,kernel_initializer='uniform',activation='softmax'))"
   ]
  },
  {
   "cell_type": "code",
   "execution_count": 56,
   "id": "a84dfdd4",
   "metadata": {
    "id": "a84dfdd4"
   },
   "outputs": [],
   "source": [
    "#Compiling\n",
    "classifier.compile(optimizer='adam',loss='categorical_crossentropy',metrics=['accuracy'])"
   ]
  },
  {
   "cell_type": "code",
   "execution_count": 57,
   "id": "2a18b053",
   "metadata": {
    "colab": {
     "base_uri": "https://localhost:8080/"
    },
    "id": "2a18b053",
    "outputId": "ad3ca034-c753-43d0-ed1c-ab69e9c3ed5d"
   },
   "outputs": [
    {
     "name": "stdout",
     "output_type": "stream",
     "text": [
      "Model: \"sequential\"\n",
      "_________________________________________________________________\n",
      " Layer (type)                Output Shape              Param #   \n",
      "=================================================================\n",
      " dense (Dense)               (None, 9)                 90        \n",
      "                                                                 \n",
      " dense_1 (Dense)             (None, 9)                 90        \n",
      "                                                                 \n",
      " dense_2 (Dense)             (None, 3)                 30        \n",
      "                                                                 \n",
      "=================================================================\n",
      "Total params: 210\n",
      "Trainable params: 210\n",
      "Non-trainable params: 0\n",
      "_________________________________________________________________\n"
     ]
    }
   ],
   "source": [
    "#Printing the summary\n",
    "classifier.summary()"
   ]
  },
  {
   "cell_type": "code",
   "execution_count": 58,
   "id": "1035ca98",
   "metadata": {
    "colab": {
     "base_uri": "https://localhost:8080/"
    },
    "id": "1035ca98",
    "outputId": "d052a0f6-a72b-43af-88a6-20c179081999"
   },
   "outputs": [
    {
     "name": "stdout",
     "output_type": "stream",
     "text": [
      "Epoch 1/50\n",
      "6250/6250 [==============================] - 17s 3ms/step - loss: 0.5196 - accuracy: 0.7679\n",
      "Epoch 2/50\n",
      "6250/6250 [==============================] - 19s 3ms/step - loss: 0.4689 - accuracy: 0.8041\n",
      "Epoch 3/50\n",
      "6250/6250 [==============================] - 18s 3ms/step - loss: 0.4422 - accuracy: 0.8261\n",
      "Epoch 4/50\n",
      "6250/6250 [==============================] - 19s 3ms/step - loss: 0.4238 - accuracy: 0.8361\n",
      "Epoch 5/50\n",
      "6250/6250 [==============================] - 18s 3ms/step - loss: 0.4135 - accuracy: 0.8424\n",
      "Epoch 6/50\n",
      "6250/6250 [==============================] - 16s 3ms/step - loss: 0.4075 - accuracy: 0.8441\n",
      "Epoch 7/50\n",
      "6250/6250 [==============================] - 16s 3ms/step - loss: 0.4048 - accuracy: 0.8448\n",
      "Epoch 8/50\n",
      "6250/6250 [==============================] - 17s 3ms/step - loss: 0.4021 - accuracy: 0.8463\n",
      "Epoch 9/50\n",
      "6250/6250 [==============================] - 16s 3ms/step - loss: 0.3987 - accuracy: 0.8485\n",
      "Epoch 10/50\n",
      "6250/6250 [==============================] - 17s 3ms/step - loss: 0.3965 - accuracy: 0.8496\n",
      "Epoch 11/50\n",
      "6250/6250 [==============================] - 17s 3ms/step - loss: 0.3929 - accuracy: 0.8502\n",
      "Epoch 12/50\n",
      "6250/6250 [==============================] - 18s 3ms/step - loss: 0.3894 - accuracy: 0.8521\n",
      "Epoch 13/50\n",
      "6250/6250 [==============================] - 17s 3ms/step - loss: 0.3851 - accuracy: 0.8546\n",
      "Epoch 14/50\n",
      "6250/6250 [==============================] - 17s 3ms/step - loss: 0.3847 - accuracy: 0.8555\n",
      "Epoch 15/50\n",
      "6250/6250 [==============================] - 18s 3ms/step - loss: 0.3826 - accuracy: 0.8543\n",
      "Epoch 16/50\n",
      "6250/6250 [==============================] - 19s 3ms/step - loss: 0.3820 - accuracy: 0.8558\n",
      "Epoch 17/50\n",
      "6250/6250 [==============================] - 17s 3ms/step - loss: 0.3792 - accuracy: 0.8571\n",
      "Epoch 18/50\n",
      "6250/6250 [==============================] - 17s 3ms/step - loss: 0.3758 - accuracy: 0.8585\n",
      "Epoch 19/50\n",
      "6250/6250 [==============================] - 17s 3ms/step - loss: 0.3731 - accuracy: 0.8586\n",
      "Epoch 20/50\n",
      "6250/6250 [==============================] - 18s 3ms/step - loss: 0.3694 - accuracy: 0.8607\n",
      "Epoch 21/50\n",
      "6250/6250 [==============================] - 16s 3ms/step - loss: 0.3671 - accuracy: 0.8614\n",
      "Epoch 22/50\n",
      "6250/6250 [==============================] - 19s 3ms/step - loss: 0.3657 - accuracy: 0.8617\n",
      "Epoch 23/50\n",
      "6250/6250 [==============================] - 18s 3ms/step - loss: 0.3652 - accuracy: 0.8629\n",
      "Epoch 24/50\n",
      "6250/6250 [==============================] - 20s 3ms/step - loss: 0.3631 - accuracy: 0.8636\n",
      "Epoch 25/50\n",
      "6250/6250 [==============================] - 19s 3ms/step - loss: 0.3623 - accuracy: 0.8645\n",
      "Epoch 26/50\n",
      "6250/6250 [==============================] - 16s 3ms/step - loss: 0.3619 - accuracy: 0.8644\n",
      "Epoch 27/50\n",
      "6250/6250 [==============================] - 19s 3ms/step - loss: 0.3613 - accuracy: 0.8651\n",
      "Epoch 28/50\n",
      "6250/6250 [==============================] - 18s 3ms/step - loss: 0.3602 - accuracy: 0.8644\n",
      "Epoch 29/50\n",
      "6250/6250 [==============================] - 17s 3ms/step - loss: 0.3595 - accuracy: 0.8655\n",
      "Epoch 30/50\n",
      "6250/6250 [==============================] - 17s 3ms/step - loss: 0.3588 - accuracy: 0.8646\n",
      "Epoch 31/50\n",
      "6250/6250 [==============================] - 19s 3ms/step - loss: 0.3581 - accuracy: 0.8655\n",
      "Epoch 32/50\n",
      "6250/6250 [==============================] - 18s 3ms/step - loss: 0.3573 - accuracy: 0.8660\n",
      "Epoch 33/50\n",
      "6250/6250 [==============================] - 20s 3ms/step - loss: 0.3569 - accuracy: 0.8655\n",
      "Epoch 34/50\n",
      "6250/6250 [==============================] - 19s 3ms/step - loss: 0.3564 - accuracy: 0.8660\n",
      "Epoch 35/50\n",
      "6250/6250 [==============================] - 18s 3ms/step - loss: 0.3569 - accuracy: 0.8663\n",
      "Epoch 36/50\n",
      "6250/6250 [==============================] - 17s 3ms/step - loss: 0.3560 - accuracy: 0.8659\n",
      "Epoch 37/50\n",
      "6250/6250 [==============================] - 16s 3ms/step - loss: 0.3553 - accuracy: 0.8671\n",
      "Epoch 38/50\n",
      "6250/6250 [==============================] - 16s 3ms/step - loss: 0.3553 - accuracy: 0.8661\n",
      "Epoch 39/50\n",
      "6250/6250 [==============================] - 17s 3ms/step - loss: 0.3550 - accuracy: 0.8665\n",
      "Epoch 40/50\n",
      "6250/6250 [==============================] - 16s 3ms/step - loss: 0.3541 - accuracy: 0.8674\n",
      "Epoch 41/50\n",
      "6250/6250 [==============================] - 16s 3ms/step - loss: 0.3544 - accuracy: 0.8672\n",
      "Epoch 42/50\n",
      "6250/6250 [==============================] - 16s 3ms/step - loss: 0.3541 - accuracy: 0.8676\n",
      "Epoch 43/50\n",
      "6250/6250 [==============================] - 16s 2ms/step - loss: 0.3538 - accuracy: 0.8666\n",
      "Epoch 44/50\n",
      "6250/6250 [==============================] - 16s 3ms/step - loss: 0.3532 - accuracy: 0.8675\n",
      "Epoch 45/50\n",
      "6250/6250 [==============================] - 17s 3ms/step - loss: 0.3536 - accuracy: 0.8668\n",
      "Epoch 46/50\n",
      "6250/6250 [==============================] - 20s 3ms/step - loss: 0.3533 - accuracy: 0.8672\n",
      "Epoch 47/50\n",
      "6250/6250 [==============================] - 18s 3ms/step - loss: 0.3531 - accuracy: 0.8674\n",
      "Epoch 48/50\n",
      "6250/6250 [==============================] - 16s 3ms/step - loss: 0.3525 - accuracy: 0.8680\n",
      "Epoch 49/50\n",
      "6250/6250 [==============================] - 17s 3ms/step - loss: 0.3530 - accuracy: 0.8678\n",
      "Epoch 50/50\n",
      "6250/6250 [==============================] - 16s 3ms/step - loss: 0.3526 - accuracy: 0.8679\n"
     ]
    },
    {
     "data": {
      "text/plain": [
       "<keras.callbacks.History at 0x27e2b3a87c0>"
      ]
     },
     "execution_count": 58,
     "metadata": {},
     "output_type": "execute_result"
    }
   ],
   "source": [
    "#fitting the model\n",
    "classifier.fit(X_train,y_train_dummy,batch_size=12,epochs=50)"
   ]
  },
  {
   "cell_type": "code",
   "execution_count": 59,
   "id": "4f896719",
   "metadata": {
    "colab": {
     "base_uri": "https://localhost:8080/"
    },
    "id": "4f896719",
    "outputId": "efa7b8ac-a8c0-4443-e949-996d9d938147"
   },
   "outputs": [
    {
     "name": "stdout",
     "output_type": "stream",
     "text": [
      "782/782 [==============================] - 2s 2ms/step\n"
     ]
    }
   ],
   "source": [
    "y_pred=classifier.predict(X_test)"
   ]
  },
  {
   "cell_type": "markdown",
   "id": "1f28e1e7",
   "metadata": {},
   "source": [
    "Since our target column has 0,1 and the y_pred has decimal values, this can't be compared.So we will use np.round to get the decimal values as 0 and 1."
   ]
  },
  {
   "cell_type": "code",
   "execution_count": 60,
   "id": "BZgd0mOfsFb1",
   "metadata": {
    "id": "BZgd0mOfsFb1"
   },
   "outputs": [],
   "source": [
    "y_pred=np.round(y_pred)"
   ]
  },
  {
   "cell_type": "code",
   "execution_count": 61,
   "id": "p9x5rMoKsLFv",
   "metadata": {
    "colab": {
     "base_uri": "https://localhost:8080/"
    },
    "id": "p9x5rMoKsLFv",
    "outputId": "e3b8dbed-ea79-4494-b166-df468bfe4fbd",
    "scrolled": true
   },
   "outputs": [
    {
     "name": "stdout",
     "output_type": "stream",
     "text": [
      "              precision    recall  f1-score   support\n",
      "\n",
      "           0       0.85      0.95      0.90     14837\n",
      "           1       0.95      0.91      0.93      4796\n",
      "           2       0.86      0.60      0.71      5367\n",
      "\n",
      "   micro avg       0.87      0.87      0.87     25000\n",
      "   macro avg       0.89      0.82      0.85     25000\n",
      "weighted avg       0.87      0.87      0.86     25000\n",
      " samples avg       0.87      0.87      0.87     25000\n",
      "\n"
     ]
    }
   ],
   "source": [
    "print(classification_report(y_test_dummy,y_pred))"
   ]
  },
  {
   "cell_type": "code",
   "execution_count": 62,
   "id": "xVQd6bE6sXs0",
   "metadata": {
    "colab": {
     "base_uri": "https://localhost:8080/"
    },
    "id": "xVQd6bE6sXs0",
    "outputId": "756331c0-85a2-4e4e-95eb-259cc2e79b73"
   },
   "outputs": [
    {
     "name": "stdout",
     "output_type": "stream",
     "text": [
      "0.86796\n"
     ]
    }
   ],
   "source": [
    "print(accuracy_score(y_test_dummy,y_pred))"
   ]
  },
  {
   "cell_type": "markdown",
   "id": "d0add3ed",
   "metadata": {
    "id": "YAS8amqNt31I"
   },
   "source": [
    "The model accuracy is 87% using Nueral Network."
   ]
  }
 ],
 "metadata": {
  "colab": {
   "collapsed_sections": [],
   "provenance": []
  },
  "kernelspec": {
   "display_name": "Python 3 (ipykernel)",
   "language": "python",
   "name": "python3"
  },
  "language_info": {
   "codemirror_mode": {
    "name": "ipython",
    "version": 3
   },
   "file_extension": ".py",
   "mimetype": "text/x-python",
   "name": "python",
   "nbconvert_exporter": "python",
   "pygments_lexer": "ipython3",
   "version": "3.9.12"
  }
 },
 "nbformat": 4,
 "nbformat_minor": 5
}
